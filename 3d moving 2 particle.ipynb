{
 "cells": [
  {
   "cell_type": "code",
   "execution_count": 1,
   "metadata": {
    "collapsed": true
   },
   "outputs": [],
   "source": [
    "import matplotlib.pyplot as plt\n",
    "import numpy as np\n",
    "%matplotlib tk"
   ]
  },
  {
   "cell_type": "code",
   "execution_count": 29,
   "metadata": {},
   "outputs": [
    {
     "data": {
      "text/plain": [
       "<matplotlib.image.AxesImage at 0x21fae32e7b8>"
      ]
     },
     "execution_count": 29,
     "metadata": {},
     "output_type": "execute_result"
    }
   ],
   "source": [
    "Nm = 2\n",
    "Np = 80\n",
    "\n",
    "x = np.arange(Nm)\n",
    "x[x>Nm/2] = x[x>Nm/2]-Nm\n",
    "X, Y, Z = np.meshgrid(x, x, x, sparse=False, indexing='ij')\n",
    "\n",
    "r = np.sqrt(X**2+Y**2+Z**2)\n",
    "\n",
    "point_phi = 1. / (r+2.) * 6.67408 * 10e-11  # m3 kg-1 c-2\n",
    "point_phi_fft = np.fft.rfftn(point_phi)\n",
    "\n",
    "plt.imshow(np.log10(abs(point_phi_fft[:,:,0])), origin = 'lower')"
   ]
  },
  {
   "cell_type": "code",
   "execution_count": 33,
   "metadata": {
    "collapsed": true
   },
   "outputs": [],
   "source": [
    "def c2i(cellx, celly, cellz, Nm, shift=[0,0,0] ) :\n",
    "    '''Return the indices of the neighbor grid cell in the shift\n",
    "    direction of each particle.'''\n",
    "\n",
    "    # Shift to the coordinates of a neighbor cell\n",
    "    shiftx = cellx+shift[0]\n",
    "    shifty = celly+shift[1]\n",
    "    shiftz = cellz+shift[2]\n",
    "    \n",
    "    # Impose BCs\n",
    "    shiftx[shiftx>=Nm] -= Nm\n",
    "    shifty[shifty>=Nm] -= Nm\n",
    "    shiftz[shiftz>=Nm] -= Nm\n",
    "    \n",
    "    shiftx[shiftx<0] += Nm\n",
    "    shifty[shifty<0] += Nm\n",
    "    shiftz[shiftz<0] += Nm\n",
    "    \n",
    "    return (shiftx*Nm*Nm + shifty*Nm + shiftz)\n",
    "\n",
    "def calc_yweights(xp, yp, zp) :\n",
    "    '''This function calculates yijk, which is a product of the\n",
    "    d's and t's'''\n",
    "\n",
    "    cellx = np.floor(xp).astype(int)\n",
    "    celly = np.floor(yp).astype(int)\n",
    "    cellz = np.floor(zp).astype(int)\n",
    "    \n",
    "    dx = xp - cellx\n",
    "    dy = yp - celly\n",
    "    dz = zp - cellz\n",
    "    \n",
    "    tx, ty, tz = 1-dx, 1-dy, 1-dz\n",
    "    \n",
    "    # Calculate volume overlap for weights\n",
    "    y000=tx*ty*tz\n",
    "    y010=tx*dy*tz\n",
    "    \n",
    "    y001=tx*ty*dz\n",
    "    y011=tx*dy*dz\n",
    "    \n",
    "    y110=dx*dy*tz\n",
    "    y100=dx*ty*tz\n",
    "    \n",
    "    y101=dx*ty*dz\n",
    "    y111=dx*dy*dz\n",
    "    \n",
    "    return cellx, celly, cellz, y000, y010, y001, y011, y110, y100, y101, y111\n",
    "    \n",
    "def DensityEstimation( xp, yp, zp, Nm, Np) :\n",
    "    ''' Use CIC weighting to estimate the density at each\n",
    "    particle's position '''\n",
    "\n",
    "    cellx, celly, cellz, y000, y010, y001, y011, y110, y100, y101, y111 = calc_yweights(xp, yp, zp)\n",
    "\n",
    "  \n",
    "    c2i000=c2i(cellx, celly, cellz, Nm, shift=[0,0,0])\n",
    "    c2i001=c2i(cellx, celly, cellz, Nm, shift=[0,0,1])\n",
    "    c2i100=c2i(cellx, celly, cellz, Nm, shift=[1,0,0])\n",
    "    c2i110=c2i(cellx, celly, cellz, Nm, shift=[1,1,0])\n",
    "    \n",
    "    \n",
    "    c2i010=c2i(cellx, celly, cellz, Nm, shift=[0,1,0])\n",
    "    c2i101=c2i(cellx, celly, cellz, Nm, shift=[1,0,1])\n",
    "    c2i111=c2i(cellx, celly, cellz, Nm, shift=[1,1,1])\n",
    "    c2i011=c2i(cellx, celly, cellz, Nm, shift=[0,1,1])\n",
    "    \n",
    "    \n",
    "    mdens = np.zeros([Nm**3])\n",
    "    mdens+=np.bincount(c2i000, weights=y000, minlength=Nm**3)\n",
    "    mdens+=np.bincount(c2i001, weights=y001, minlength=Nm**3)\n",
    "    mdens+=np.bincount(c2i100, weights=y100, minlength=Nm**3)\n",
    "    mdens+=np.bincount(c2i110, weights=y110, minlength=Nm**3)\n",
    "      \n",
    "        \n",
    "    mdens+=np.bincount(c2i010, weights=y010, minlength=Nm**3)\n",
    "    mdens+=np.bincount(c2i101, weights=y101, minlength=Nm**3)\n",
    "    mdens+=np.bincount(c2i111, weights=y111, minlength=Nm**3)\n",
    "    mdens+=np.bincount(c2i011, weights=y011, minlength=Nm**3)\n",
    "\n",
    "    mdens=mdens*Nm**3/Np**3\n",
    "    return mdens.reshape([Nm, Nm, Nm])\n",
    "\n",
    "\n",
    "def GetPhi(mdens, point_phi_fft):\n",
    "    mdens_fft = np.fft.rfftn(mdens)\n",
    "    mdens_fft *= point_phi_fft\n",
    "    phi = np.fft.irfftn(mdens_fft)\n",
    "    return phi\n",
    "\n",
    "\n",
    "\n",
    "def GetFg(xp,yp,zp, phi,Nm):\n",
    "    gx = np.gradient(phi,axis=0)\n",
    "    gy = np.gradient(phi,axis=1)\n",
    "    gz = np.gradient(phi,axis=2)\n",
    "    \n",
    "    cellx, celly, cellz, y000, y010, y001, y011, y110, y100, y101, y111 = calc_yweights(xp, yp, zp)\n",
    "    c2i000=c2i(cellx, celly, cellz, Nm, shift=[0,0,0])\n",
    "    c2i001=c2i(cellx, celly, cellz, Nm, shift=[0,0,1])\n",
    "    c2i100=c2i(cellx, celly, cellz, Nm, shift=[1,0,0])\n",
    "    c2i110=c2i(cellx, celly, cellz, Nm, shift=[1,1,0])\n",
    "    \n",
    "    \n",
    "    c2i010=c2i(cellx, celly, cellz, Nm, shift=[0,1,0])\n",
    "    c2i101=c2i(cellx, celly, cellz, Nm, shift=[1,0,1])\n",
    "    c2i111=c2i(cellx, celly, cellz, Nm, shift=[1,1,1])\n",
    "    c2i011=c2i(cellx, celly, cellz, Nm, shift=[0,0,1])\n",
    "    \n",
    "    \n",
    "    fx = gx.flatten()[c2i000]*y000\n",
    "    fy = gy.flatten()[c2i000]*y000\n",
    "    fz = gz.flatten()[c2i000]*y000\n",
    "    \n",
    "    fx += gx.flatten()[c2i001]*y001\n",
    "    fy += gy.flatten()[c2i001]*y001\n",
    "    fz = gz.flatten()[c2i001]*y001\n",
    "    \n",
    "    fx += gx.flatten()[c2i010]*y010\n",
    "    fy += gy.flatten()[c2i010]*y010\n",
    "    fz = gz.flatten()[c2i010]*y010\n",
    "    \n",
    "    fx += gx.flatten()[c2i100]*y100\n",
    "    fy += gy.flatten()[c2i100]*y100\n",
    "    fz = gz.flatten()[c2i100]*y100\n",
    "    \n",
    "    fx += gx.flatten()[c2i101]*y101\n",
    "    fy += gy.flatten()[c2i101]*y101\n",
    "    fz += gy.flatten()[c2i101]*y101\n",
    "    \n",
    "    fx += gx.flatten()[c2i111]*y111\n",
    "    fy += gy.flatten()[c2i111]*y111\n",
    "    fz += gy.flatten()[c2i111]*y111\n",
    "    \n",
    "    fx += gx.flatten()[c2i011]*y011\n",
    "    fy += gy.flatten()[c2i011]*y011\n",
    "    fz += gy.flatten()[c2i011]*y011\n",
    "    \n",
    "    fx += gx.flatten()[c2i110]*y110\n",
    "    fy += gy.flatten()[c2i110]*y110\n",
    "    fz += gy.flatten()[c2i110]*y110\n",
    "    \n",
    "    return fx, fy, fz\n",
    "\n",
    "def step(xp, yp, zp, vxp, vyp, vzp, dt, Nm, Np):\n",
    "    xp[xp>=Nm] -= Nm\n",
    "    yp[yp>=Nm] -= Nm\n",
    "    zp[zp>=Nm] -= Nm\n",
    "    \n",
    "    xp[xp<0] += Nm\n",
    "    yp[yp<0] += Nm\n",
    "    zp[yp<0] += Nm\n",
    "    \n",
    "    mdens = DensityEstimation(xp, yp, zp, Nm, Np)\n",
    "    phi = GetPhi(mdens, point_phi_fft)\n",
    "    fx, fy, fz = GetFg(xp, yp, zp, phi, Nm)\n",
    "    vxp += fx*dt*100\n",
    "    vyp += fy*dt*100\n",
    "    vzp += fz*dt*100\n",
    "    \n",
    "    xp += vxp*dt\n",
    "    yp += vyp*dt\n",
    "    zp += vzp*dt\n",
    "    return xp, yp, zp, vxp, vyp, vzp"
   ]
  },
  {
   "cell_type": "code",
   "execution_count": 37,
   "metadata": {
    "collapsed": true
   },
   "outputs": [],
   "source": [
    "N = Nm"
   ]
  },
  {
   "cell_type": "code",
   "execution_count": 6,
   "metadata": {},
   "outputs": [
    {
     "name": "stdout",
     "output_type": "stream",
     "text": [
      "[ 60.3  60. ]\n",
      "[ 60.  30.]\n"
     ]
    }
   ],
   "source": [
    "xp = np.array([0.3+N/2, N/2])  # одна в центре\n",
    "yp = np.array([N/2, N/4])     # ещё одна где-то\n",
    "zp = np.array([N/2, N/2])\n",
    "\n",
    "vxp = np.array([0., 1.])\n",
    "vyp = np.array([0., 0.])\n",
    "vzp = np.array([0., 0.])\n",
    "print(xp)\n",
    "print(yp)"
   ]
  },
  {
   "cell_type": "code",
   "execution_count": 21,
   "metadata": {},
   "outputs": [
    {
     "name": "stdout",
     "output_type": "stream",
     "text": [
      "(120, 120, 120)\n"
     ]
    }
   ],
   "source": [
    "mdens = DensityEstimation(xp, yp, zp, N, 2)      # две точки на поле запихиивает\n",
    "plt.imshow(mdens[:,:,60], cmap='gray_r')\n",
    "print(np.shape(mdens))\n"
   ]
  },
  {
   "cell_type": "code",
   "execution_count": 28,
   "metadata": {},
   "outputs": [
    {
     "data": {
      "text/plain": [
       "<matplotlib.image.AxesImage at 0x1a3597a52b0>"
      ]
     },
     "execution_count": 28,
     "metadata": {},
     "output_type": "execute_result"
    }
   ],
   "source": [
    "phi = GetPhi(mdens, point_phi_fft)\n",
    "plt.imshow(np.log10(phi[:,:,68]))\n",
    "\n"
   ]
  },
  {
   "cell_type": "code",
   "execution_count": 38,
   "metadata": {
    "collapsed": true
   },
   "outputs": [],
   "source": [
    "from mpl_toolkits.mplot3d import Axes3D"
   ]
  },
  {
   "cell_type": "code",
   "execution_count": 39,
   "metadata": {},
   "outputs": [
    {
     "ename": "ValueError",
     "evalue": "operands could not be broadcast together with shapes (8,) (16,) (8,) ",
     "output_type": "error",
     "traceback": [
      "\u001b[1;31m---------------------------------------------------------------------------\u001b[0m",
      "\u001b[1;31mValueError\u001b[0m                                Traceback (most recent call last)",
      "\u001b[1;32m<ipython-input-39-fe4b5d814223>\u001b[0m in \u001b[0;36m<module>\u001b[1;34m()\u001b[0m\n\u001b[0;32m     15\u001b[0m \u001b[1;31m#cmap = matplotlib.cm.get_cmap('jet')\u001b[0m\u001b[1;33m\u001b[0m\u001b[1;33m\u001b[0m\u001b[0m\n\u001b[0;32m     16\u001b[0m \u001b[1;33m\u001b[0m\u001b[0m\n\u001b[1;32m---> 17\u001b[1;33m \u001b[0mmdens\u001b[0m \u001b[1;33m=\u001b[0m \u001b[0mDensityEstimation\u001b[0m\u001b[1;33m(\u001b[0m\u001b[0mxp\u001b[0m\u001b[1;33m,\u001b[0m \u001b[0myp\u001b[0m\u001b[1;33m,\u001b[0m \u001b[0mzp\u001b[0m\u001b[1;33m,\u001b[0m \u001b[0mN\u001b[0m\u001b[1;33m,\u001b[0m \u001b[1;36m2\u001b[0m\u001b[1;33m)\u001b[0m\u001b[1;33m\u001b[0m\u001b[0m\n\u001b[0m\u001b[0;32m     18\u001b[0m \u001b[1;31m#p = plt.imshow(mdens[:,:,68])\u001b[0m\u001b[1;33m\u001b[0m\u001b[1;33m\u001b[0m\u001b[0m\n\u001b[0;32m     19\u001b[0m \u001b[1;31m#fig = plt.gcf()\u001b[0m\u001b[1;33m\u001b[0m\u001b[1;33m\u001b[0m\u001b[0m\n",
      "\u001b[1;32m<ipython-input-33-44e3cd87f22a>\u001b[0m in \u001b[0;36mDensityEstimation\u001b[1;34m(xp, yp, zp, Nm, Np)\u001b[0m\n\u001b[0;32m     68\u001b[0m \u001b[1;33m\u001b[0m\u001b[0m\n\u001b[0;32m     69\u001b[0m     \u001b[0mmdens\u001b[0m \u001b[1;33m=\u001b[0m \u001b[0mnp\u001b[0m\u001b[1;33m.\u001b[0m\u001b[0mzeros\u001b[0m\u001b[1;33m(\u001b[0m\u001b[1;33m[\u001b[0m\u001b[0mNm\u001b[0m\u001b[1;33m**\u001b[0m\u001b[1;36m3\u001b[0m\u001b[1;33m]\u001b[0m\u001b[1;33m)\u001b[0m\u001b[1;33m\u001b[0m\u001b[0m\n\u001b[1;32m---> 70\u001b[1;33m     \u001b[0mmdens\u001b[0m\u001b[1;33m+=\u001b[0m\u001b[0mnp\u001b[0m\u001b[1;33m.\u001b[0m\u001b[0mbincount\u001b[0m\u001b[1;33m(\u001b[0m\u001b[0mc2i000\u001b[0m\u001b[1;33m,\u001b[0m \u001b[0mweights\u001b[0m\u001b[1;33m=\u001b[0m\u001b[0my000\u001b[0m\u001b[1;33m,\u001b[0m \u001b[0mminlength\u001b[0m\u001b[1;33m=\u001b[0m\u001b[0mNm\u001b[0m\u001b[1;33m**\u001b[0m\u001b[1;36m3\u001b[0m\u001b[1;33m)\u001b[0m\u001b[1;33m\u001b[0m\u001b[0m\n\u001b[0m\u001b[0;32m     71\u001b[0m     \u001b[0mmdens\u001b[0m\u001b[1;33m+=\u001b[0m\u001b[0mnp\u001b[0m\u001b[1;33m.\u001b[0m\u001b[0mbincount\u001b[0m\u001b[1;33m(\u001b[0m\u001b[0mc2i001\u001b[0m\u001b[1;33m,\u001b[0m \u001b[0mweights\u001b[0m\u001b[1;33m=\u001b[0m\u001b[0my001\u001b[0m\u001b[1;33m,\u001b[0m \u001b[0mminlength\u001b[0m\u001b[1;33m=\u001b[0m\u001b[0mNm\u001b[0m\u001b[1;33m**\u001b[0m\u001b[1;36m3\u001b[0m\u001b[1;33m)\u001b[0m\u001b[1;33m\u001b[0m\u001b[0m\n\u001b[0;32m     72\u001b[0m     \u001b[0mmdens\u001b[0m\u001b[1;33m+=\u001b[0m\u001b[0mnp\u001b[0m\u001b[1;33m.\u001b[0m\u001b[0mbincount\u001b[0m\u001b[1;33m(\u001b[0m\u001b[0mc2i100\u001b[0m\u001b[1;33m,\u001b[0m \u001b[0mweights\u001b[0m\u001b[1;33m=\u001b[0m\u001b[0my100\u001b[0m\u001b[1;33m,\u001b[0m \u001b[0mminlength\u001b[0m\u001b[1;33m=\u001b[0m\u001b[0mNm\u001b[0m\u001b[1;33m**\u001b[0m\u001b[1;36m3\u001b[0m\u001b[1;33m)\u001b[0m\u001b[1;33m\u001b[0m\u001b[0m\n",
      "\u001b[1;31mValueError\u001b[0m: operands could not be broadcast together with shapes (8,) (16,) (8,) "
     ]
    }
   ],
   "source": [
    "dt=20\n",
    "xp = np.array([0.3+N/2, N/2])  \n",
    "yp = np.array([4+N/2, N/4])     \n",
    "zp = np.array([6+N/2, N/4])\n",
    "\n",
    "vxp = np.array([2., 1.1])\n",
    "vyp = np.array([2., 1.])\n",
    "vzp = np.array([2.1, 1.])\n",
    "\n",
    "#vyp = np.random.normal(loc=Nm/2, scale=Nm/1e4, size=[2])\n",
    "#vzp = np.random.normal(loc=Nm/2, scale=Nm/1e4, size=[2])\n",
    "#vxp = np.random.normal(loc=Nm/2, scale=Nm/1e4, size=[2])\n",
    "\n",
    "#import matplotlib\n",
    "#cmap = matplotlib.cm.get_cmap('jet')\n",
    "\n",
    "mdens = DensityEstimation(xp, yp, zp, N, 2)\n",
    "#p = plt.imshow(mdens[:,:,68])\n",
    "#fig = plt.gcf()\n",
    "\n",
    "Nstep=60\n",
    "j=0\n",
    "fig = plt.figure()\n",
    "ax = fig.add_subplot(111, projection='3d')\n",
    "\n",
    "\n",
    "for i in range(Nstep):\n",
    "    \n",
    "    #rgb = cmap((i+0.5)/Nstep)\n",
    "    xp, yp, zp, vxp, vyp, vzp = step(xp, yp, zp, vxp, vyp, vzp, dt, N,2)\n",
    "    mdens = DensityEstimation(xp, yp, zp, N, 2)\n",
    "    #p.set_data(mdens[:,:,61])\n",
    "    #plt.pause(0.01)\n",
    "    #print(xp, yp, zp)\n",
    "    print(vxp,vyp,vzp)\n",
    "    ax.clear()\n",
    "    ax.scatter(xp, yp, zp, marker = 'o')\n",
    "    ax.set_xlim(0,80)\n",
    "    ax.set_ylim(0,80)\n",
    "    ax.set_zlim(0,80)\n",
    "    ax.set_title('3d')\n",
    "    plt.savefig(\"lip_\"+str(j)+\"_r.jpg\", format = \"jpg\")\n",
    "    j+=1\n"
   ]
  },
  {
   "cell_type": "code",
   "execution_count": 10,
   "metadata": {
    "collapsed": true
   },
   "outputs": [],
   "source": []
  }
 ],
 "metadata": {
  "kernelspec": {
   "display_name": "Python 3",
   "language": "python",
   "name": "python3"
  },
  "language_info": {
   "codemirror_mode": {
    "name": "ipython",
    "version": 3
   },
   "file_extension": ".py",
   "mimetype": "text/x-python",
   "name": "python",
   "nbconvert_exporter": "python",
   "pygments_lexer": "ipython3",
   "version": "3.6.1"
  }
 },
 "nbformat": 4,
 "nbformat_minor": 2
}
